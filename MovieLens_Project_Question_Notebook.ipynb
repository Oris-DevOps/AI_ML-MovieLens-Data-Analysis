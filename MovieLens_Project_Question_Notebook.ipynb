{
  "nbformat": 4,
  "nbformat_minor": 0,
  "metadata": {
    "kernelspec": {
      "display_name": "Python 3",
      "language": "python",
      "name": "python3"
    },
    "language_info": {
      "codemirror_mode": {
        "name": "ipython",
        "version": 3
      },
      "file_extension": ".py",
      "mimetype": "text/x-python",
      "name": "python",
      "nbconvert_exporter": "python",
      "pygments_lexer": "ipython3",
      "version": "3.8.5"
    },
    "colab": {
      "name": "MovieLens Project Question Notebook.ipynb",
      "provenance": [],
      "collapsed_sections": [],
      "toc_visible": true,
      "include_colab_link": true
    },
    "accelerator": "GPU"
  },
  "cells": [
    {
      "cell_type": "markdown",
      "metadata": {
        "id": "view-in-github",
        "colab_type": "text"
      },
      "source": [
        "<a href=\"https://colab.research.google.com/github/Oris-DevOps/AI_ML-MovieLens-Data-Analysis/blob/main/MovieLens_Project_Question_Notebook.ipynb\" target=\"_parent\"><img src=\"https://colab.research.google.com/assets/colab-badge.svg\" alt=\"Open In Colab\"/></a>"
      ]
    },
    {
      "cell_type": "markdown",
      "metadata": {
        "id": "NMSNzcKkphKb"
      },
      "source": [
        "### `Project - MovieLens Data Analysis`\n",
        "\n",
        "The GroupLens Research Project is a research group in the Department of Computer Science and Engineering at the University of Minnesota. The data is widely used for collaborative filtering and other filtering solutions. However, we will be using this data to act as a means to demonstrate our skill in using Python to “play” with data.\n",
        "\n",
        "### `Objective:`\n",
        "- To implement the techniques learnt as a part of the course.\n",
        "\n",
        "### `Datasets Information:`\n",
        "\n",
        "*rating.csv:* It contains information on ratings given by the users to a particular movie.\n",
        "- user id: id assigned to every user\n",
        "- movie id: id assigned to every movie\n",
        "- rating: rating given by the user\n",
        "- timestamp: Time recorded when the user gave a rating\n",
        "\n",
        "*movie.csv:* File contains information related to the movies and their genre.\n",
        "- movie id: id assigned to every movie\n",
        "- movie title: Title of the movie\n",
        "- release date: Date of release of the movie\n",
        "- Action: Genre containing binary values (1 - for action 0 - not action)\n",
        "- Adventure: Genre containing binary values (1 - for adventure 0 - not adventure)\n",
        "- Animation: Genre containing binary values (1 - for animation 0 - not animation)\n",
        "- Children’s: Genre containing binary values (1 - for children's 0 - not children's)\n",
        "- Comedy: Genre containing binary values (1 - for comedy 0 - not comedy)\n",
        "- Crime: Genre containing binary values (1 - for crime 0 - not crime)\n",
        "- Documentary: Genre containing binary values (1 - for documentary 0 - not documentary)\n",
        "- Drama: Genre containing binary values (1 - for drama 0 - not drama)\n",
        "- Fantasy: Genre containing binary values (1 - for fantasy 0 - not fantasy)\n",
        "- Film-Noir: Genre containing binary values (1 - for film-noir 0 - not film-noir)\n",
        "- Horror: Genre containing binary values (1 - for horror 0 - not horror)\n",
        "- Musical: Genre containing binary values (1 - for musical 0 - not musical)\n",
        "- Mystery: Genre containing binary values (1 - for mystery 0 - not mystery)\n",
        "- Romance: Genre containing binary values (1 - for romance 0 - not romance)\n",
        "- Sci-Fi: Genre containing binary values (1 - for sci-fi 0 - not sci-fi)\n",
        "- Thriller: Genre containing binary values (1 - for thriller 0 - not thriller)\n",
        "- War: Genre containing binary values (1 - for war 0 - not war)\n",
        "- Western: Genre containing binary values (1 - for western - not western)\n",
        "\n",
        "\n",
        "*user.csv:* It contains information of the users who have rated the movies.\n",
        "- user id: id assigned to every user\n",
        "- age: Age of the user\n",
        "- gender: Gender of the user\n",
        "- occupation: Occupation of the user\n",
        "- zip code: Zip code of the use\n",
        "\n",
        "**`Please provide your insights wherever necessary.`**\n",
        "\n",
        "### `Learning Outcomes:`\n",
        "- Exploratory Data Analysis\n",
        "\n",
        "- Visualization using Python\n",
        "\n",
        "- Pandas – groupby, merging \n",
        "\n",
        "\n",
        "### `Domain` \n",
        "- Internet and Entertainment\n",
        "\n",
        "**Note that the project will need you to apply the concepts of groupby and merging extensively.**"
      ]
    },
    {
      "cell_type": "markdown",
      "metadata": {
        "id": "93w7W1ftphKi"
      },
      "source": [
        "### 1. Import the necessary packages - 2.5 marks"
      ]
    },
    {
      "cell_type": "code",
      "metadata": {
        "id": "h3WH1eriphKi"
      },
      "source": [
        "#your code here\n"
      ],
      "execution_count": null,
      "outputs": []
    },
    {
      "cell_type": "code",
      "metadata": {
        "id": "owehFVy7etop"
      },
      "source": [
        "#import libraries/packages needed\n",
        "import numpy as np\n",
        "import pandas as pd\n",
        "import seaborn as sns\n",
        "import matplotlib.pyplot as plt\n",
        "%matplotlib inline\n",
        "sns.set(color_codes=True) #add nice colorful background to the plots/graphs\n",
        "import os # enable working with file path/directory\n",
        "\n"
      ],
      "execution_count": 12,
      "outputs": []
    },
    {
      "cell_type": "markdown",
      "metadata": {
        "id": "uwR99olFphKj"
      },
      "source": [
        "### 2. Read the 3 datasets into dataframes - 2.5 marks"
      ]
    },
    {
      "cell_type": "code",
      "metadata": {
        "scrolled": true,
        "id": "TSe8Jl6ephKj"
      },
      "source": [
        "#your code here\n",
        "pathM =\"/content/drive/MyDrive/Colab Notebooks/movie.csv\"\n",
        "pathR=\"/content/drive/MyDrive/Colab Notebooks/rating.csv\"\n",
        "pathU=\"/content/drive/MyDrive/Colab Notebooks/user.csv\"\n",
        "ratingDf = pd.read_csv(pathR)   #read/load rating dataset into the ratingdDf dataframe\n",
        "movieDf = pd.read_csv(pathM)    #read/load movie dataset into the moviedDf dataframe\n",
        "userDf= pd.read_csv(pathU)      #read/load user dataset into the userdDf dataframe\n",
        "# movieData= pd.read_csv('movie.csv')\n",
        "# from google.colab import drive\n",
        "# drive.mount('/content/drive')\n",
        "#movieData.head()"
      ],
      "execution_count": 15,
      "outputs": []
    },
    {
      "cell_type": "code",
      "metadata": {
        "id": "0y-oW9d5q3SA"
      },
      "source": [
        ""
      ],
      "execution_count": null,
      "outputs": []
    },
    {
      "cell_type": "markdown",
      "metadata": {
        "id": "sef4mVcEphKk"
      },
      "source": [
        "### 3. Apply info, shape, describe, and find the number of missing values in the data. Present at least 3 observations from these operations - 2.5 marks\n",
        " - Note that you will need to do it for all the three datasets seperately"
      ]
    },
    {
      "cell_type": "code",
      "metadata": {
        "id": "XYxUMP9ztlmb"
      },
      "source": [
        ""
      ],
      "execution_count": null,
      "outputs": []
    },
    {
      "cell_type": "markdown",
      "metadata": {
        "id": "mN1glFFKtmdi"
      },
      "source": [
        "3.1: **Initial Review of Rating Dataset**"
      ]
    },
    {
      "cell_type": "code",
      "metadata": {
        "colab": {
          "base_uri": "https://localhost:8080/"
        },
        "id": "-rjpDyvytxF3",
        "outputId": "46d4c3c4-ec8c-4a6a-f30f-be384ffc5876"
      },
      "source": [
        "# summary information about ratingDf\n",
        "ratingDf.info()"
      ],
      "execution_count": 51,
      "outputs": [
        {
          "output_type": "stream",
          "text": [
            "<class 'pandas.core.frame.DataFrame'>\n",
            "RangeIndex: 100000 entries, 0 to 99999\n",
            "Data columns (total 4 columns):\n",
            " #   Column     Non-Null Count   Dtype\n",
            "---  ------     --------------   -----\n",
            " 0   user id    100000 non-null  int64\n",
            " 1   movie id   100000 non-null  int64\n",
            " 2   rating     100000 non-null  int64\n",
            " 3   timestamp  100000 non-null  int64\n",
            "dtypes: int64(4)\n",
            "memory usage: 3.1 MB\n"
          ],
          "name": "stdout"
        }
      ]
    },
    {
      "cell_type": "code",
      "metadata": {
        "colab": {
          "base_uri": "https://localhost:8080/"
        },
        "id": "Vwyxwaavt928",
        "outputId": "5a317bd1-bc57-4539-dd9e-42dd710915f9"
      },
      "source": [
        "# shape of ratingDf\n",
        "ratingDf.shape"
      ],
      "execution_count": 52,
      "outputs": [
        {
          "output_type": "execute_result",
          "data": {
            "text/plain": [
              "(100000, 4)"
            ]
          },
          "metadata": {
            "tags": []
          },
          "execution_count": 52
        }
      ]
    },
    {
      "cell_type": "code",
      "metadata": {
        "colab": {
          "base_uri": "https://localhost:8080/",
          "height": 173
        },
        "id": "jdskDsiAuHr3",
        "outputId": "37653217-0650-4325-b4b8-4e8c3d1e126f"
      },
      "source": [
        "# describe function to analyze 5 point summary of ratingDf\n",
        "ratingDf.describe().T"
      ],
      "execution_count": 33,
      "outputs": [
        {
          "output_type": "execute_result",
          "data": {
            "text/html": [
              "<div>\n",
              "<style scoped>\n",
              "    .dataframe tbody tr th:only-of-type {\n",
              "        vertical-align: middle;\n",
              "    }\n",
              "\n",
              "    .dataframe tbody tr th {\n",
              "        vertical-align: top;\n",
              "    }\n",
              "\n",
              "    .dataframe thead th {\n",
              "        text-align: right;\n",
              "    }\n",
              "</style>\n",
              "<table border=\"1\" class=\"dataframe\">\n",
              "  <thead>\n",
              "    <tr style=\"text-align: right;\">\n",
              "      <th></th>\n",
              "      <th>count</th>\n",
              "      <th>mean</th>\n",
              "      <th>std</th>\n",
              "      <th>min</th>\n",
              "      <th>25%</th>\n",
              "      <th>50%</th>\n",
              "      <th>75%</th>\n",
              "      <th>max</th>\n",
              "    </tr>\n",
              "  </thead>\n",
              "  <tbody>\n",
              "    <tr>\n",
              "      <th>user id</th>\n",
              "      <td>100000.0</td>\n",
              "      <td>4.624848e+02</td>\n",
              "      <td>2.666144e+02</td>\n",
              "      <td>1.0</td>\n",
              "      <td>254.0</td>\n",
              "      <td>447.0</td>\n",
              "      <td>682.0</td>\n",
              "      <td>943.0</td>\n",
              "    </tr>\n",
              "    <tr>\n",
              "      <th>movie id</th>\n",
              "      <td>100000.0</td>\n",
              "      <td>4.255301e+02</td>\n",
              "      <td>3.307984e+02</td>\n",
              "      <td>1.0</td>\n",
              "      <td>175.0</td>\n",
              "      <td>322.0</td>\n",
              "      <td>631.0</td>\n",
              "      <td>1682.0</td>\n",
              "    </tr>\n",
              "    <tr>\n",
              "      <th>rating</th>\n",
              "      <td>100000.0</td>\n",
              "      <td>3.529860e+00</td>\n",
              "      <td>1.125674e+00</td>\n",
              "      <td>1.0</td>\n",
              "      <td>3.0</td>\n",
              "      <td>4.0</td>\n",
              "      <td>4.0</td>\n",
              "      <td>5.0</td>\n",
              "    </tr>\n",
              "    <tr>\n",
              "      <th>timestamp</th>\n",
              "      <td>100000.0</td>\n",
              "      <td>8.835289e+08</td>\n",
              "      <td>5.343856e+06</td>\n",
              "      <td>874724710.0</td>\n",
              "      <td>879448709.5</td>\n",
              "      <td>882826944.0</td>\n",
              "      <td>888259984.0</td>\n",
              "      <td>893286638.0</td>\n",
              "    </tr>\n",
              "  </tbody>\n",
              "</table>\n",
              "</div>"
            ],
            "text/plain": [
              "              count          mean  ...          75%          max\n",
              "user id    100000.0  4.624848e+02  ...        682.0        943.0\n",
              "movie id   100000.0  4.255301e+02  ...        631.0       1682.0\n",
              "rating     100000.0  3.529860e+00  ...          4.0          5.0\n",
              "timestamp  100000.0  8.835289e+08  ...  888259984.0  893286638.0\n",
              "\n",
              "[4 rows x 8 columns]"
            ]
          },
          "metadata": {
            "tags": []
          },
          "execution_count": 33
        }
      ]
    },
    {
      "cell_type": "code",
      "metadata": {
        "colab": {
          "base_uri": "https://localhost:8080/"
        },
        "id": "FBihErcpufeB",
        "outputId": "5effecf9-fd80-4ee6-9eb2-0eb08ccfdaae"
      },
      "source": [
        "print('Checking for all Null values \\n',ratingDf.isnull().sum())\n",
        "print('\\n Checking for all NaN values \\n',ratingDf.isna().sum())"
      ],
      "execution_count": 46,
      "outputs": [
        {
          "output_type": "stream",
          "text": [
            "Checking for all Null values \n",
            " user id      0\n",
            "movie id     0\n",
            "rating       0\n",
            "timestamp    0\n",
            "dtype: int64\n",
            "\n",
            " Checking for all NaN values \n",
            " user id      0\n",
            "movie id     0\n",
            "rating       0\n",
            "timestamp    0\n",
            "dtype: int64\n"
          ],
          "name": "stdout"
        }
      ]
    },
    {
      "cell_type": "code",
      "metadata": {
        "colab": {
          "base_uri": "https://localhost:8080/",
          "height": 419
        },
        "id": "qUBUM4j53Xwx",
        "outputId": "63e18d6d-7ce0-4d90-e71b-9c3c357ecf95"
      },
      "source": [
        "ratingDf.isna()"
      ],
      "execution_count": 47,
      "outputs": [
        {
          "output_type": "execute_result",
          "data": {
            "text/html": [
              "<div>\n",
              "<style scoped>\n",
              "    .dataframe tbody tr th:only-of-type {\n",
              "        vertical-align: middle;\n",
              "    }\n",
              "\n",
              "    .dataframe tbody tr th {\n",
              "        vertical-align: top;\n",
              "    }\n",
              "\n",
              "    .dataframe thead th {\n",
              "        text-align: right;\n",
              "    }\n",
              "</style>\n",
              "<table border=\"1\" class=\"dataframe\">\n",
              "  <thead>\n",
              "    <tr style=\"text-align: right;\">\n",
              "      <th></th>\n",
              "      <th>user id</th>\n",
              "      <th>movie id</th>\n",
              "      <th>rating</th>\n",
              "      <th>timestamp</th>\n",
              "    </tr>\n",
              "  </thead>\n",
              "  <tbody>\n",
              "    <tr>\n",
              "      <th>0</th>\n",
              "      <td>False</td>\n",
              "      <td>False</td>\n",
              "      <td>False</td>\n",
              "      <td>False</td>\n",
              "    </tr>\n",
              "    <tr>\n",
              "      <th>1</th>\n",
              "      <td>False</td>\n",
              "      <td>False</td>\n",
              "      <td>False</td>\n",
              "      <td>False</td>\n",
              "    </tr>\n",
              "    <tr>\n",
              "      <th>2</th>\n",
              "      <td>False</td>\n",
              "      <td>False</td>\n",
              "      <td>False</td>\n",
              "      <td>False</td>\n",
              "    </tr>\n",
              "    <tr>\n",
              "      <th>3</th>\n",
              "      <td>False</td>\n",
              "      <td>False</td>\n",
              "      <td>False</td>\n",
              "      <td>False</td>\n",
              "    </tr>\n",
              "    <tr>\n",
              "      <th>4</th>\n",
              "      <td>False</td>\n",
              "      <td>False</td>\n",
              "      <td>False</td>\n",
              "      <td>False</td>\n",
              "    </tr>\n",
              "    <tr>\n",
              "      <th>...</th>\n",
              "      <td>...</td>\n",
              "      <td>...</td>\n",
              "      <td>...</td>\n",
              "      <td>...</td>\n",
              "    </tr>\n",
              "    <tr>\n",
              "      <th>99995</th>\n",
              "      <td>False</td>\n",
              "      <td>False</td>\n",
              "      <td>False</td>\n",
              "      <td>False</td>\n",
              "    </tr>\n",
              "    <tr>\n",
              "      <th>99996</th>\n",
              "      <td>False</td>\n",
              "      <td>False</td>\n",
              "      <td>False</td>\n",
              "      <td>False</td>\n",
              "    </tr>\n",
              "    <tr>\n",
              "      <th>99997</th>\n",
              "      <td>False</td>\n",
              "      <td>False</td>\n",
              "      <td>False</td>\n",
              "      <td>False</td>\n",
              "    </tr>\n",
              "    <tr>\n",
              "      <th>99998</th>\n",
              "      <td>False</td>\n",
              "      <td>False</td>\n",
              "      <td>False</td>\n",
              "      <td>False</td>\n",
              "    </tr>\n",
              "    <tr>\n",
              "      <th>99999</th>\n",
              "      <td>False</td>\n",
              "      <td>False</td>\n",
              "      <td>False</td>\n",
              "      <td>False</td>\n",
              "    </tr>\n",
              "  </tbody>\n",
              "</table>\n",
              "<p>100000 rows × 4 columns</p>\n",
              "</div>"
            ],
            "text/plain": [
              "       user id  movie id  rating  timestamp\n",
              "0        False     False   False      False\n",
              "1        False     False   False      False\n",
              "2        False     False   False      False\n",
              "3        False     False   False      False\n",
              "4        False     False   False      False\n",
              "...        ...       ...     ...        ...\n",
              "99995    False     False   False      False\n",
              "99996    False     False   False      False\n",
              "99997    False     False   False      False\n",
              "99998    False     False   False      False\n",
              "99999    False     False   False      False\n",
              "\n",
              "[100000 rows x 4 columns]"
            ]
          },
          "metadata": {
            "tags": []
          },
          "execution_count": 47
        }
      ]
    },
    {
      "cell_type": "code",
      "metadata": {
        "colab": {
          "base_uri": "https://localhost:8080/"
        },
        "id": "w3UlZdsVzKQ0",
        "outputId": "36308666-18e3-4ab2-ea5e-fde1e1b2c6db"
      },
      "source": [
        "ratingDf['rating'].skew()"
      ],
      "execution_count": 36,
      "outputs": [
        {
          "output_type": "execute_result",
          "data": {
            "text/plain": [
              "-0.510143949217015"
            ]
          },
          "metadata": {
            "tags": []
          },
          "execution_count": 36
        }
      ]
    },
    {
      "cell_type": "markdown",
      "metadata": {
        "id": "_8yxcn2uwvb-"
      },
      "source": [
        "3.1.1: **Rating dataset Observations**\n",
        "*   All the columns are integer data type, including the timestamp data\n",
        "*   Based on the information summary, the isnull and isna codes there are no null or Nan inputs in the rating dataset\n",
        "*   Movie ID, rating, user id should all be a categorical data type, but currently loaded into the dataframe as integer\n",
        "*   There are 100,000 rows/records and 4 columns/fields\n",
        "\n",
        "\n",
        "\n"
      ]
    },
    {
      "cell_type": "markdown",
      "metadata": {
        "id": "XSz3bLTL3nGI"
      },
      "source": [
        "3.2: **Initial Review of Movie Dataset**\n",
        "\n",
        "\n"
      ]
    },
    {
      "cell_type": "code",
      "metadata": {
        "colab": {
          "base_uri": "https://localhost:8080/"
        },
        "id": "I3XIwOA739po",
        "outputId": "452bbe2b-40b1-4db4-ab16-6e0e2c694e5a"
      },
      "source": [
        "# summary information about movieDf\n",
        "movieDf.info()"
      ],
      "execution_count": 53,
      "outputs": [
        {
          "output_type": "stream",
          "text": [
            "<class 'pandas.core.frame.DataFrame'>\n",
            "RangeIndex: 1681 entries, 0 to 1680\n",
            "Data columns (total 22 columns):\n",
            " #   Column        Non-Null Count  Dtype \n",
            "---  ------        --------------  ----- \n",
            " 0   movie id      1681 non-null   int64 \n",
            " 1   movie title   1681 non-null   object\n",
            " 2   release date  1681 non-null   object\n",
            " 3   unknown       1681 non-null   int64 \n",
            " 4   Action        1681 non-null   int64 \n",
            " 5   Adventure     1681 non-null   int64 \n",
            " 6   Animation     1681 non-null   int64 \n",
            " 7   Childrens     1681 non-null   int64 \n",
            " 8   Comedy        1681 non-null   int64 \n",
            " 9   Crime         1681 non-null   int64 \n",
            " 10  Documentary   1681 non-null   int64 \n",
            " 11  Drama         1681 non-null   int64 \n",
            " 12  Fantasy       1681 non-null   int64 \n",
            " 13  Film-Noir     1681 non-null   int64 \n",
            " 14  Horror        1681 non-null   int64 \n",
            " 15  Musical       1681 non-null   int64 \n",
            " 16  Mystery       1681 non-null   int64 \n",
            " 17  Romance       1681 non-null   int64 \n",
            " 18  Sci-Fi        1681 non-null   int64 \n",
            " 19  Thriller      1681 non-null   int64 \n",
            " 20  War           1681 non-null   int64 \n",
            " 21  Western       1681 non-null   int64 \n",
            "dtypes: int64(20), object(2)\n",
            "memory usage: 289.0+ KB\n"
          ],
          "name": "stdout"
        }
      ]
    },
    {
      "cell_type": "code",
      "metadata": {
        "colab": {
          "base_uri": "https://localhost:8080/"
        },
        "id": "BmiNNcS94QD8",
        "outputId": "15618fc0-5f7c-431d-a809-d5558f56f9a2"
      },
      "source": [
        "# shape of movieDf\n",
        "movieDf.shape"
      ],
      "execution_count": 54,
      "outputs": [
        {
          "output_type": "execute_result",
          "data": {
            "text/plain": [
              "(1681, 22)"
            ]
          },
          "metadata": {
            "tags": []
          },
          "execution_count": 54
        }
      ]
    },
    {
      "cell_type": "code",
      "metadata": {
        "colab": {
          "base_uri": "https://localhost:8080/",
          "height": 669
        },
        "id": "Gwv9if4-4Y2Q",
        "outputId": "b50a8729-eb19-4ad0-dd28-852f87bd262f"
      },
      "source": [
        "# describe function to analyze 5 point summary of movieDf\n",
        "movieDf.describe().T"
      ],
      "execution_count": 55,
      "outputs": [
        {
          "output_type": "execute_result",
          "data": {
            "text/html": [
              "<div>\n",
              "<style scoped>\n",
              "    .dataframe tbody tr th:only-of-type {\n",
              "        vertical-align: middle;\n",
              "    }\n",
              "\n",
              "    .dataframe tbody tr th {\n",
              "        vertical-align: top;\n",
              "    }\n",
              "\n",
              "    .dataframe thead th {\n",
              "        text-align: right;\n",
              "    }\n",
              "</style>\n",
              "<table border=\"1\" class=\"dataframe\">\n",
              "  <thead>\n",
              "    <tr style=\"text-align: right;\">\n",
              "      <th></th>\n",
              "      <th>count</th>\n",
              "      <th>mean</th>\n",
              "      <th>std</th>\n",
              "      <th>min</th>\n",
              "      <th>25%</th>\n",
              "      <th>50%</th>\n",
              "      <th>75%</th>\n",
              "      <th>max</th>\n",
              "    </tr>\n",
              "  </thead>\n",
              "  <tbody>\n",
              "    <tr>\n",
              "      <th>movie id</th>\n",
              "      <td>1681.0</td>\n",
              "      <td>841.841761</td>\n",
              "      <td>485.638077</td>\n",
              "      <td>1.0</td>\n",
              "      <td>422.0</td>\n",
              "      <td>842.0</td>\n",
              "      <td>1262.0</td>\n",
              "      <td>1682.0</td>\n",
              "    </tr>\n",
              "    <tr>\n",
              "      <th>unknown</th>\n",
              "      <td>1681.0</td>\n",
              "      <td>0.000595</td>\n",
              "      <td>0.024390</td>\n",
              "      <td>0.0</td>\n",
              "      <td>0.0</td>\n",
              "      <td>0.0</td>\n",
              "      <td>0.0</td>\n",
              "      <td>1.0</td>\n",
              "    </tr>\n",
              "    <tr>\n",
              "      <th>Action</th>\n",
              "      <td>1681.0</td>\n",
              "      <td>0.149316</td>\n",
              "      <td>0.356506</td>\n",
              "      <td>0.0</td>\n",
              "      <td>0.0</td>\n",
              "      <td>0.0</td>\n",
              "      <td>0.0</td>\n",
              "      <td>1.0</td>\n",
              "    </tr>\n",
              "    <tr>\n",
              "      <th>Adventure</th>\n",
              "      <td>1681.0</td>\n",
              "      <td>0.080309</td>\n",
              "      <td>0.271852</td>\n",
              "      <td>0.0</td>\n",
              "      <td>0.0</td>\n",
              "      <td>0.0</td>\n",
              "      <td>0.0</td>\n",
              "      <td>1.0</td>\n",
              "    </tr>\n",
              "    <tr>\n",
              "      <th>Animation</th>\n",
              "      <td>1681.0</td>\n",
              "      <td>0.024985</td>\n",
              "      <td>0.156126</td>\n",
              "      <td>0.0</td>\n",
              "      <td>0.0</td>\n",
              "      <td>0.0</td>\n",
              "      <td>0.0</td>\n",
              "      <td>1.0</td>\n",
              "    </tr>\n",
              "    <tr>\n",
              "      <th>Childrens</th>\n",
              "      <td>1681.0</td>\n",
              "      <td>0.072576</td>\n",
              "      <td>0.259516</td>\n",
              "      <td>0.0</td>\n",
              "      <td>0.0</td>\n",
              "      <td>0.0</td>\n",
              "      <td>0.0</td>\n",
              "      <td>1.0</td>\n",
              "    </tr>\n",
              "    <tr>\n",
              "      <th>Comedy</th>\n",
              "      <td>1681.0</td>\n",
              "      <td>0.300416</td>\n",
              "      <td>0.458576</td>\n",
              "      <td>0.0</td>\n",
              "      <td>0.0</td>\n",
              "      <td>0.0</td>\n",
              "      <td>1.0</td>\n",
              "      <td>1.0</td>\n",
              "    </tr>\n",
              "    <tr>\n",
              "      <th>Crime</th>\n",
              "      <td>1681.0</td>\n",
              "      <td>0.064842</td>\n",
              "      <td>0.246321</td>\n",
              "      <td>0.0</td>\n",
              "      <td>0.0</td>\n",
              "      <td>0.0</td>\n",
              "      <td>0.0</td>\n",
              "      <td>1.0</td>\n",
              "    </tr>\n",
              "    <tr>\n",
              "      <th>Documentary</th>\n",
              "      <td>1681.0</td>\n",
              "      <td>0.029744</td>\n",
              "      <td>0.169931</td>\n",
              "      <td>0.0</td>\n",
              "      <td>0.0</td>\n",
              "      <td>0.0</td>\n",
              "      <td>0.0</td>\n",
              "      <td>1.0</td>\n",
              "    </tr>\n",
              "    <tr>\n",
              "      <th>Drama</th>\n",
              "      <td>1681.0</td>\n",
              "      <td>0.431291</td>\n",
              "      <td>0.495404</td>\n",
              "      <td>0.0</td>\n",
              "      <td>0.0</td>\n",
              "      <td>0.0</td>\n",
              "      <td>1.0</td>\n",
              "      <td>1.0</td>\n",
              "    </tr>\n",
              "    <tr>\n",
              "      <th>Fantasy</th>\n",
              "      <td>1681.0</td>\n",
              "      <td>0.013087</td>\n",
              "      <td>0.113683</td>\n",
              "      <td>0.0</td>\n",
              "      <td>0.0</td>\n",
              "      <td>0.0</td>\n",
              "      <td>0.0</td>\n",
              "      <td>1.0</td>\n",
              "    </tr>\n",
              "    <tr>\n",
              "      <th>Film-Noir</th>\n",
              "      <td>1681.0</td>\n",
              "      <td>0.014277</td>\n",
              "      <td>0.118667</td>\n",
              "      <td>0.0</td>\n",
              "      <td>0.0</td>\n",
              "      <td>0.0</td>\n",
              "      <td>0.0</td>\n",
              "      <td>1.0</td>\n",
              "    </tr>\n",
              "    <tr>\n",
              "      <th>Horror</th>\n",
              "      <td>1681.0</td>\n",
              "      <td>0.054729</td>\n",
              "      <td>0.227519</td>\n",
              "      <td>0.0</td>\n",
              "      <td>0.0</td>\n",
              "      <td>0.0</td>\n",
              "      <td>0.0</td>\n",
              "      <td>1.0</td>\n",
              "    </tr>\n",
              "    <tr>\n",
              "      <th>Musical</th>\n",
              "      <td>1681.0</td>\n",
              "      <td>0.033314</td>\n",
              "      <td>0.179507</td>\n",
              "      <td>0.0</td>\n",
              "      <td>0.0</td>\n",
              "      <td>0.0</td>\n",
              "      <td>0.0</td>\n",
              "      <td>1.0</td>\n",
              "    </tr>\n",
              "    <tr>\n",
              "      <th>Mystery</th>\n",
              "      <td>1681.0</td>\n",
              "      <td>0.036288</td>\n",
              "      <td>0.187061</td>\n",
              "      <td>0.0</td>\n",
              "      <td>0.0</td>\n",
              "      <td>0.0</td>\n",
              "      <td>0.0</td>\n",
              "      <td>1.0</td>\n",
              "    </tr>\n",
              "    <tr>\n",
              "      <th>Romance</th>\n",
              "      <td>1681.0</td>\n",
              "      <td>0.146936</td>\n",
              "      <td>0.354148</td>\n",
              "      <td>0.0</td>\n",
              "      <td>0.0</td>\n",
              "      <td>0.0</td>\n",
              "      <td>0.0</td>\n",
              "      <td>1.0</td>\n",
              "    </tr>\n",
              "    <tr>\n",
              "      <th>Sci-Fi</th>\n",
              "      <td>1681.0</td>\n",
              "      <td>0.060083</td>\n",
              "      <td>0.237712</td>\n",
              "      <td>0.0</td>\n",
              "      <td>0.0</td>\n",
              "      <td>0.0</td>\n",
              "      <td>0.0</td>\n",
              "      <td>1.0</td>\n",
              "    </tr>\n",
              "    <tr>\n",
              "      <th>Thriller</th>\n",
              "      <td>1681.0</td>\n",
              "      <td>0.149316</td>\n",
              "      <td>0.356506</td>\n",
              "      <td>0.0</td>\n",
              "      <td>0.0</td>\n",
              "      <td>0.0</td>\n",
              "      <td>0.0</td>\n",
              "      <td>1.0</td>\n",
              "    </tr>\n",
              "    <tr>\n",
              "      <th>War</th>\n",
              "      <td>1681.0</td>\n",
              "      <td>0.042237</td>\n",
              "      <td>0.201189</td>\n",
              "      <td>0.0</td>\n",
              "      <td>0.0</td>\n",
              "      <td>0.0</td>\n",
              "      <td>0.0</td>\n",
              "      <td>1.0</td>\n",
              "    </tr>\n",
              "    <tr>\n",
              "      <th>Western</th>\n",
              "      <td>1681.0</td>\n",
              "      <td>0.016062</td>\n",
              "      <td>0.125751</td>\n",
              "      <td>0.0</td>\n",
              "      <td>0.0</td>\n",
              "      <td>0.0</td>\n",
              "      <td>0.0</td>\n",
              "      <td>1.0</td>\n",
              "    </tr>\n",
              "  </tbody>\n",
              "</table>\n",
              "</div>"
            ],
            "text/plain": [
              "              count        mean         std  min    25%    50%     75%     max\n",
              "movie id     1681.0  841.841761  485.638077  1.0  422.0  842.0  1262.0  1682.0\n",
              "unknown      1681.0    0.000595    0.024390  0.0    0.0    0.0     0.0     1.0\n",
              "Action       1681.0    0.149316    0.356506  0.0    0.0    0.0     0.0     1.0\n",
              "Adventure    1681.0    0.080309    0.271852  0.0    0.0    0.0     0.0     1.0\n",
              "Animation    1681.0    0.024985    0.156126  0.0    0.0    0.0     0.0     1.0\n",
              "Childrens    1681.0    0.072576    0.259516  0.0    0.0    0.0     0.0     1.0\n",
              "Comedy       1681.0    0.300416    0.458576  0.0    0.0    0.0     1.0     1.0\n",
              "Crime        1681.0    0.064842    0.246321  0.0    0.0    0.0     0.0     1.0\n",
              "Documentary  1681.0    0.029744    0.169931  0.0    0.0    0.0     0.0     1.0\n",
              "Drama        1681.0    0.431291    0.495404  0.0    0.0    0.0     1.0     1.0\n",
              "Fantasy      1681.0    0.013087    0.113683  0.0    0.0    0.0     0.0     1.0\n",
              "Film-Noir    1681.0    0.014277    0.118667  0.0    0.0    0.0     0.0     1.0\n",
              "Horror       1681.0    0.054729    0.227519  0.0    0.0    0.0     0.0     1.0\n",
              "Musical      1681.0    0.033314    0.179507  0.0    0.0    0.0     0.0     1.0\n",
              "Mystery      1681.0    0.036288    0.187061  0.0    0.0    0.0     0.0     1.0\n",
              "Romance      1681.0    0.146936    0.354148  0.0    0.0    0.0     0.0     1.0\n",
              "Sci-Fi       1681.0    0.060083    0.237712  0.0    0.0    0.0     0.0     1.0\n",
              "Thriller     1681.0    0.149316    0.356506  0.0    0.0    0.0     0.0     1.0\n",
              "War          1681.0    0.042237    0.201189  0.0    0.0    0.0     0.0     1.0\n",
              "Western      1681.0    0.016062    0.125751  0.0    0.0    0.0     0.0     1.0"
            ]
          },
          "metadata": {
            "tags": []
          },
          "execution_count": 55
        }
      ]
    },
    {
      "cell_type": "code",
      "metadata": {
        "colab": {
          "base_uri": "https://localhost:8080/"
        },
        "id": "ZS01YGrX5DA7",
        "outputId": "07b3b8c8-b6d0-4fc9-8eb4-78931f20bea4"
      },
      "source": [
        "print('Checking for all Null values \\n',movieDf.isnull().sum())\n",
        "print('\\n Checking for all NaN values \\n',movieDf.isna().sum())"
      ],
      "execution_count": 57,
      "outputs": [
        {
          "output_type": "stream",
          "text": [
            "Checking for all Null values \n",
            " movie id        0\n",
            "movie title     0\n",
            "release date    0\n",
            "unknown         0\n",
            "Action          0\n",
            "Adventure       0\n",
            "Animation       0\n",
            "Childrens       0\n",
            "Comedy          0\n",
            "Crime           0\n",
            "Documentary     0\n",
            "Drama           0\n",
            "Fantasy         0\n",
            "Film-Noir       0\n",
            "Horror          0\n",
            "Musical         0\n",
            "Mystery         0\n",
            "Romance         0\n",
            "Sci-Fi          0\n",
            "Thriller        0\n",
            "War             0\n",
            "Western         0\n",
            "dtype: int64\n",
            "\n",
            " Checking for all NaN values \n",
            " movie id        0\n",
            "movie title     0\n",
            "release date    0\n",
            "unknown         0\n",
            "Action          0\n",
            "Adventure       0\n",
            "Animation       0\n",
            "Childrens       0\n",
            "Comedy          0\n",
            "Crime           0\n",
            "Documentary     0\n",
            "Drama           0\n",
            "Fantasy         0\n",
            "Film-Noir       0\n",
            "Horror          0\n",
            "Musical         0\n",
            "Mystery         0\n",
            "Romance         0\n",
            "Sci-Fi          0\n",
            "Thriller        0\n",
            "War             0\n",
            "Western         0\n",
            "dtype: int64\n"
          ],
          "name": "stdout"
        }
      ]
    },
    {
      "cell_type": "code",
      "metadata": {
        "id": "EHOMXVk05EW6"
      },
      "source": [
        ""
      ],
      "execution_count": null,
      "outputs": []
    },
    {
      "cell_type": "markdown",
      "metadata": {
        "id": "E4Q_2K20phKk"
      },
      "source": [
        "**Observations:**\n",
        "\n"
      ]
    },
    {
      "cell_type": "markdown",
      "metadata": {
        "id": "UrfhAhq5phKl"
      },
      "source": [
        "### 4. Find the number of movies per genre using the item data - 2.5 marks"
      ]
    },
    {
      "cell_type": "code",
      "metadata": {
        "id": "7TqzWxyiphKl"
      },
      "source": [
        "#your code here"
      ],
      "execution_count": null,
      "outputs": []
    },
    {
      "cell_type": "markdown",
      "metadata": {
        "id": "eDYr-nX5phKl"
      },
      "source": [
        "**Insights:**\n",
        "\n"
      ]
    },
    {
      "cell_type": "markdown",
      "metadata": {
        "id": "tmP37DX8phKm"
      },
      "source": [
        "### 5. Drop the movie where the genre is unknown - 2.5 marks"
      ]
    },
    {
      "cell_type": "code",
      "metadata": {
        "id": "Q__VkKtOphKm"
      },
      "source": [
        "#your code here"
      ],
      "execution_count": null,
      "outputs": []
    },
    {
      "cell_type": "markdown",
      "metadata": {
        "id": "LVV7qDBAphKm"
      },
      "source": [
        "**Insights:**\n"
      ]
    },
    {
      "cell_type": "markdown",
      "metadata": {
        "id": "MWn-2kVgphKm"
      },
      "source": [
        "### 6. Find the movies that have more than one genre - 5 marks\n",
        "\n",
        "hint: use sum on the axis = 1\n",
        "\n",
        "Display movie name, number of genres for the movie in dataframe\n",
        "\n",
        "and also print(total number of movies which have more than one genres)"
      ]
    },
    {
      "cell_type": "code",
      "metadata": {
        "id": "ElwwTwCZphKn"
      },
      "source": [
        "#your code here"
      ],
      "execution_count": null,
      "outputs": []
    },
    {
      "cell_type": "markdown",
      "metadata": {
        "id": "0Tz90XFuphKn"
      },
      "source": [
        "**Insights:**\n",
        "\n"
      ]
    },
    {
      "cell_type": "markdown",
      "metadata": {
        "id": "2K3EmQPmphKn"
      },
      "source": [
        "### 7. Univariate plots of columns: 'rating', 'Age', 'release year', 'Gender' and 'Occupation' - 10 marks\n",
        "\n",
        "*HINT: Use distplot for age and countplot for release year, ratings, *\n",
        "\n",
        "*HINT: Please refer to the below snippet to understand how to get to release year from release date. You can use str.split() as depicted below or you could convert it to pandas datetime format and extract year (.dt.year)*"
      ]
    },
    {
      "cell_type": "code",
      "metadata": {
        "id": "wxpNKXNRphKn",
        "outputId": "cf7b148f-1e0b-4f18-c157-b2179daf334f"
      },
      "source": [
        "a = 'My*cat*is*brown'\n",
        "print(a.split('*')[3])\n",
        "\n",
        "#similarly, the release year needs to be taken out from release date\n",
        "\n",
        "#also you can simply slice existing string to get the desired data, if we want to take out the colour of the cat\n",
        "\n",
        "print(a[10:])\n",
        "print(a[-5:])"
      ],
      "execution_count": null,
      "outputs": [
        {
          "output_type": "stream",
          "text": [
            "brown\n",
            "brown\n",
            "brown\n"
          ],
          "name": "stdout"
        }
      ]
    },
    {
      "cell_type": "code",
      "metadata": {
        "id": "GDldQPfuphKo"
      },
      "source": [
        "#your code here"
      ],
      "execution_count": null,
      "outputs": []
    },
    {
      "cell_type": "markdown",
      "metadata": {
        "id": "DfGna6j9phKp"
      },
      "source": [
        "### 8. Visualize how popularity of genres has changed over the years - 10 marks\n",
        "\n",
        "Note that you need to use the **percent of number of releases in a year** as a parameter of popularity of a genre\n",
        "\n",
        "Hint 1: You need to reach to a data frame where the release year is the index and the genre is the column names (one cell shows the number of release in a year in one genre) or vice versa. (Drop unnecessary column if there are any)\n",
        "\n",
        "Hint 2: Find the total number of movies release in a year(use item dataset to get count of movies released in a particular year, store that value in a new column as 'total'). Now divide the value of each genre in that year by total to get percentage number of release in a particular year.\n",
        "`(df.div(df['total'], axis= 0) * 100)`\n",
        "\n",
        "Once that is achieved, you can either use univariate plots or can use the heatmap to visualise all the changes over the years \n",
        "in one go. \n",
        "\n",
        "Hint 3: Use groupby on the relevant column and use sum() on the same to find out the number of releases in a year/genre."
      ]
    },
    {
      "cell_type": "code",
      "metadata": {
        "id": "RG6MEEWWphKp"
      },
      "source": [
        "#your code here"
      ],
      "execution_count": null,
      "outputs": []
    },
    {
      "cell_type": "markdown",
      "metadata": {
        "id": "fUzw7e1MphKp"
      },
      "source": [
        "**Insights:**\n",
        "\n"
      ]
    },
    {
      "cell_type": "markdown",
      "metadata": {
        "id": "klZ4NVtSphKp"
      },
      "source": [
        "### 9. Find the top 25 movies in terms of average ratings for movies that have been rated more than 100 times - 10 marks\n",
        "\n",
        "Hints : \n",
        "\n",
        "1. Find the count of ratings and average ratings for every movie.\n",
        "2. Slice the movies which have ratings more than 100.\n",
        "3. Sort values according to average rating such that movie which highest rating is on top.\n",
        "4. Select top 25 movies.\n",
        "5. You will have to use the .merge() function to get the movie titles.\n",
        "\n",
        "Note: This question will need you to research about groupby and apply your findings. You can find more on groupby on https://realpython.com/pandas-groupby/."
      ]
    },
    {
      "cell_type": "code",
      "metadata": {
        "id": "RFtsse1BphKp"
      },
      "source": [
        "#your code here"
      ],
      "execution_count": null,
      "outputs": []
    },
    {
      "cell_type": "markdown",
      "metadata": {
        "id": "Yj9GrQqJphKq"
      },
      "source": [
        "### 10. Check for the validity of the below statements with respect to the data provided - 10 marks\n",
        "\n",
        "* Men watch more drama than women\n",
        "* Women watch more Sci-Fi than men\n",
        "* Men watch more Romance than women\n",
        "\n",
        "**compare the percentages**\n",
        "\n",
        "**Please pay attention to what should be the denominator while calculating percentages**"
      ]
    },
    {
      "cell_type": "markdown",
      "metadata": {
        "id": "qMNGvhF6phKq"
      },
      "source": [
        "1. Merge all the datasets\n",
        "\n",
        "2. There is no need to conduct statistical tests around this. Just **compare the percentages** and comment on the validity of the above statements.\n",
        "\n",
        "3. you might want ot use the .sum(), .div() function here.\n",
        "\n",
        "4. Use number of ratings to validate the numbers. For example, if out of 4000 ratings received by women, 3000 are for drama, we will assume that 75% of the women watch drama."
      ]
    },
    {
      "cell_type": "code",
      "metadata": {
        "id": "Nzdqr9pSphKq"
      },
      "source": [
        "#your code here"
      ],
      "execution_count": null,
      "outputs": []
    },
    {
      "cell_type": "markdown",
      "metadata": {
        "id": "D4bbGzwcphKr"
      },
      "source": [
        "**Conclusion:**\n",
        "    \n"
      ]
    }
  ]
}